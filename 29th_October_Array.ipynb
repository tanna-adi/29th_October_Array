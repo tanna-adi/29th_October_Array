{
 "cells": [
  {
   "cell_type": "markdown",
   "id": "9b3fa103-1e96-4119-baa3-90ff1117276b",
   "metadata": {},
   "source": [
    "# Arrays Assignment"
   ]
  },
  {
   "cell_type": "markdown",
   "id": "8813ffc7-425e-4d6a-bf04-a81e08c4acee",
   "metadata": {},
   "source": [
    "## Que 1:\n",
    "## Given an array, check if it contains any duplicates or not."
   ]
  },
  {
   "cell_type": "code",
   "execution_count": 1,
   "id": "85f326ae-0517-4ae6-b204-743fcddc61ac",
   "metadata": {},
   "outputs": [
    {
     "name": "stdout",
     "output_type": "stream",
     "text": [
      "True\n"
     ]
    }
   ],
   "source": [
    "## Time complexity: O(n)\n",
    "## Space complexity: O(n)\n",
    "\n",
    "def check_duplicate(arr):\n",
    "    l1=[]\n",
    "    for i in arr:\n",
    "        if i not in l1:\n",
    "            l1.append(i)\n",
    "        else:\n",
    "            return True\n",
    "    return False\n",
    "\n",
    "# Driver code\n",
    "arr = [1, 2, 4, 2, 5, 9] \n",
    "result = check_duplicate(arr)\n",
    "print(result)"
   ]
  },
  {
   "cell_type": "markdown",
   "id": "d070f9f0-b92f-4b03-9cc9-46481cdd90d7",
   "metadata": {
    "tags": []
   },
   "source": [
    "## Que 2:\n",
    "## Given an array and an integer k, rotate the array to the right by k steps. "
   ]
  },
  {
   "cell_type": "code",
   "execution_count": 2,
   "id": "6c9fd3a6-0a92-4582-ba4c-4ff2146f189a",
   "metadata": {},
   "outputs": [
    {
     "name": "stdout",
     "output_type": "stream",
     "text": [
      "[5, 6, 7, 1, 2, 3, 4]\n"
     ]
    }
   ],
   "source": [
    "## Time complexity: O(n)\n",
    "## Space complexity: O(1)\n",
    "\n",
    "def rotate_array(arr,k):\n",
    "    for i in range(0,k+1):\n",
    "        arr.append(arr.pop(0))\n",
    "    return arr\n",
    "\n",
    "# Driver code\n",
    "arr = [1, 2, 3, 4, 5, 6, 7]\n",
    "k = 3\n",
    "result = rotate_array(arr,k)\n",
    "print(result)"
   ]
  },
  {
   "cell_type": "markdown",
   "id": "a0c7031e-975b-47eb-9a82-8f95b278d182",
   "metadata": {},
   "source": [
    "## Que 3:\n",
    "## Reverse the given array in-place, means without using any extra data structure. "
   ]
  },
  {
   "cell_type": "code",
   "execution_count": 3,
   "id": "7f8cdd16-d7c0-40e4-bfc9-9a20039a95d2",
   "metadata": {},
   "outputs": [
    {
     "name": "stdout",
     "output_type": "stream",
     "text": [
      "[12, 9, 7, 5, 4, 2]\n"
     ]
    }
   ],
   "source": [
    "## Time complexity: O(n)\n",
    "## Space complexity: O(1)\n",
    "\n",
    "def rotate_array(arr):\n",
    "    for i in range(len(arr)-1,-1,-1):\n",
    "        arr.append(arr.pop(i))\n",
    "    return arr\n",
    "\n",
    "# Driver code\n",
    "arr = [2, 4, 5, 7, 9, 12]\n",
    "result = rotate_array(arr)\n",
    "print(result)"
   ]
  },
  {
   "cell_type": "markdown",
   "id": "1f75a3c4-ab16-4857-a507-fcdd0b99f234",
   "metadata": {},
   "source": [
    "## Que 4:\n",
    "## Given an array of integers, find the maximum element in an array"
   ]
  },
  {
   "cell_type": "code",
   "execution_count": 4,
   "id": "8b5cfad6-de0d-4bee-8aa8-9266600f9966",
   "metadata": {},
   "outputs": [
    {
     "name": "stdout",
     "output_type": "stream",
     "text": [
      "20\n"
     ]
    }
   ],
   "source": [
    "## Time complexity: O(n)\n",
    "## Space complexity: O(1)\n",
    "\n",
    "def max_element(arr):\n",
    "    max_e = 0\n",
    "    for i in arr:\n",
    "        if i > max_e:\n",
    "            max_e = i\n",
    "    return max_e\n",
    "\n",
    "# Driver code\n",
    "arr = [10, 5, 20, 8, 15]\n",
    "result = max_element(arr)\n",
    "print(result)"
   ]
  },
  {
   "cell_type": "markdown",
   "id": "2d3cf09e-7f92-4069-8ba6-6eb0f93aab25",
   "metadata": {},
   "source": [
    "## Que 5:\n",
    "## Given a sorted array, remove the duplicate element without using any extra data structure."
   ]
  },
  {
   "cell_type": "code",
   "execution_count": 5,
   "id": "9e66b856-8a10-435d-b931-075522ade85f",
   "metadata": {},
   "outputs": [
    {
     "name": "stdout",
     "output_type": "stream",
     "text": [
      "[1, 2, 3, 4, 5]\n"
     ]
    }
   ],
   "source": [
    "## Time complexity: O(n)\n",
    "## Space complexity: O(n)\n",
    "\n",
    "def remove_duplicate(arr):\n",
    "    arr1= []\n",
    "    for i in range(len(arr)):\n",
    "        if arr[i] in arr1:\n",
    "            continue\n",
    "        else:\n",
    "            arr1.append(arr[i])\n",
    "    return arr1\n",
    "\n",
    "# Driver code\n",
    "arr = [1, 1, 2, 2, 2, 3, 3, 4, 4, 4, 5, 5]\n",
    "result = remove_duplicate(arr)\n",
    "print(result)"
   ]
  }
 ],
 "metadata": {
  "kernelspec": {
   "display_name": "Python 3 (ipykernel)",
   "language": "python",
   "name": "python3"
  },
  "language_info": {
   "codemirror_mode": {
    "name": "ipython",
    "version": 3
   },
   "file_extension": ".py",
   "mimetype": "text/x-python",
   "name": "python",
   "nbconvert_exporter": "python",
   "pygments_lexer": "ipython3",
   "version": "3.10.8"
  }
 },
 "nbformat": 4,
 "nbformat_minor": 5
}
